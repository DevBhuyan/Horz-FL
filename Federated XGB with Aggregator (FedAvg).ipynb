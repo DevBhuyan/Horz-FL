{
 "cells": [
  {
   "cell_type": "markdown",
   "id": "5367523e",
   "metadata": {},
   "source": [
    "Federated XGBoost based on FedAvg - as proposed by McMahan"
   ]
  },
  {
   "cell_type": "code",
   "execution_count": 1,
   "id": "1e16a0d1",
   "metadata": {},
   "outputs": [],
   "source": [
    "import pandas as pd\n",
    "import numpy as np\n",
    "import matplotlib.pyplot as plt\n",
    "import pickle\n",
    "import xgboost as xgb\n",
    "from sklearn.model_selection import train_test_split\n",
    "from sklearn.metrics import accuracy_score"
   ]
  },
  {
   "cell_type": "code",
   "execution_count": 2,
   "id": "ec6c91c2",
   "metadata": {},
   "outputs": [
    {
     "data": {
      "text/plain": [
       "(1427, 4323)"
      ]
     },
     "execution_count": 2,
     "metadata": {},
     "output_type": "execute_result"
    }
   ],
   "source": [
    "file = 'RELATHE.csv'\n",
    "df_main = pd.read_csv(file)\n",
    "df_main = df_main.sample(frac = 1)\n",
    "df_main.shape"
   ]
  },
  {
   "cell_type": "code",
   "execution_count": 3,
   "id": "72e1e797",
   "metadata": {
    "scrolled": true
   },
   "outputs": [
    {
     "data": {
      "text/plain": [
       "<bound method NDFrame.head of       V1  V2  V3  V4  V5  V6  V7  V8  V9  V10  ...  V4314  V4315  V4316  \\\n",
       "33     0   0   0   0   0   0   0   0   0    0  ...      0      0      0   \n",
       "1005   0   0   0   0   0   0   0   0   0    0  ...      0      0      0   \n",
       "853    0   0   0   0   0   0   0   0   0    0  ...      0      0      0   \n",
       "368    0   0   1   0   0   0   0   0   0    0  ...      0      0      0   \n",
       "1288   0   0   0   0   0   0   0   0   0    0  ...      0      0      0   \n",
       "...   ..  ..  ..  ..  ..  ..  ..  ..  ..  ...  ...    ...    ...    ...   \n",
       "310    0   0   0   0   0   0   0   0   0    0  ...      0      0      0   \n",
       "425    0   0   0   0   0   0   0   0   0    0  ...      0      0      0   \n",
       "1148   0   0   0   0   0   0   0   0   0    0  ...      0      0      0   \n",
       "256    0   0   0   0   0   0   0   0   0    0  ...      0      0      0   \n",
       "218    0   0   0   0   0   0   0   0   0    0  ...      0      0      0   \n",
       "\n",
       "      V4317  V4318  V4319  V4320  V4321  V4322  TARGET  \n",
       "33        0      0      0      0      0      0       0  \n",
       "1005      0      0      0      0      0      0       1  \n",
       "853       0      0      0      0      0      0       1  \n",
       "368       0      3      0      0      0      0       0  \n",
       "1288      0      0      0      0      0      0       1  \n",
       "...     ...    ...    ...    ...    ...    ...     ...  \n",
       "310       0      0      0      0      0      0       0  \n",
       "425       0      0      0      0      0      0       0  \n",
       "1148      0      0      0      0      0      0       1  \n",
       "256       0      0      0      0      0      0       0  \n",
       "218       0      0      0      0      0      0       0  \n",
       "\n",
       "[1427 rows x 4323 columns]>"
      ]
     },
     "execution_count": 3,
     "metadata": {},
     "output_type": "execute_result"
    }
   ],
   "source": [
    "df_main.head"
   ]
  },
  {
   "cell_type": "code",
   "execution_count": 4,
   "id": "bea1083d",
   "metadata": {},
   "outputs": [],
   "source": [
    "#DATA DIVISION\n",
    "\n",
    "df_1 = df_main.iloc[:300, :]\n",
    "x_1 = df_1.drop('TARGET', axis = 1)\n",
    "y_1 = df_1['TARGET']\n",
    "df_2 = df_main.iloc[300:600, :]\n",
    "x_2 = df_2.drop('TARGET', axis = 1)\n",
    "y_2 = df_2['TARGET']\n",
    "df_3 = df_main.iloc[600:900, :]\n",
    "x_3 = df_3.drop('TARGET', axis = 1)\n",
    "y_3 = df_3['TARGET']\n",
    "df_4 = df_main.iloc[900:1200, :]\n",
    "x_4 = df_4.drop('TARGET', axis = 1)\n",
    "y_4 = df_4['TARGET']\n",
    "df_5 = df_main.iloc[1200:, :]\n",
    "x_5 = df_5.drop('TARGET', axis = 1)\n",
    "y_5 = df_5['TARGET']\n",
    "df_list = [df_1, df_2, df_3, df_4, df_5]\n",
    "x_list = [x_1, x_2, x_3, x_4, x_5]"
   ]
  },
  {
   "cell_type": "code",
   "execution_count": 5,
   "id": "6f62b7ee",
   "metadata": {},
   "outputs": [],
   "source": [
    "global_model = pickle.load(open(\"xgb_clf.dat\", \"rb\"))"
   ]
  },
  {
   "cell_type": "code",
   "execution_count": 6,
   "id": "b6465ff5",
   "metadata": {},
   "outputs": [],
   "source": [
    "class Server():\n",
    "    def __init__(self, df, model):\n",
    "        self.df = df\n",
    "        self.model = model\n",
    "    def update_weights():\n",
    "        return\n",
    "\n",
    "server = Server(df_main, global_model)"
   ]
  },
  {
   "cell_type": "code",
   "execution_count": 7,
   "id": "fbbc42b9",
   "metadata": {},
   "outputs": [],
   "source": [
    "class Client():\n",
    "    def __init__(self, cli, df, model):\n",
    "        self.cli = cli\n",
    "        self.df = df\n",
    "        self.model = model\n",
    "    def generate_weights(self, model):\n",
    "        df = self.df\n",
    "        X = df.drop('TARGET', axis = 1)\n",
    "        y = df['TARGET']\n",
    "        X_train, X_test, y_train, y_test = train_test_split(X, y, test_size = 0.2, random_state = 0)\n",
    "        eval_set = [(X_test, y_test)]\n",
    "        model.fit(X_train, \n",
    "                y_train, \n",
    "                early_stopping_rounds=15,                  \n",
    "                eval_set=eval_set,\n",
    "                verbose = False)\n",
    "        results = model.evals_result()\n",
    "        return model, sum(results['validation_0']['logloss'])/len(results['validation_0']['logloss'])\n",
    "    def inference(self, model):    #return the acc, loss of given model on local dataset\n",
    "        df = self.df\n",
    "        X = df.drop('TARGET', axis = 1)\n",
    "        y = df['TARGET']\n",
    "        X_train, X_test, y_train, y_test = train_test_split(X, y, test_size = 0.2, random_state = 0)\n",
    "        y_pred = model.predict(X_test)\n",
    "        return accuracy_score(y_test, y_pred), "
   ]
  },
  {
   "cell_type": "code",
   "execution_count": 8,
   "id": "88d3e5f6",
   "metadata": {},
   "outputs": [],
   "source": [
    "def update_model(global_model, local_weights):    #change the weights in the model itself\n",
    "    # local weights is also a model\n",
    "    global_new_model = global_model\n",
    "    return global_new_model"
   ]
  },
  {
   "cell_type": "code",
   "execution_count": 9,
   "id": "7ebc5729",
   "metadata": {},
   "outputs": [],
   "source": [
    "cl1 = Client(1, df_1, global_model)\n",
    "cl2 = Client(2, df_2, global_model)\n",
    "cl3 = Client(3, df_3, global_model)\n",
    "cl4 = Client(4, df_4, global_model)\n",
    "cl5 = Client(5, df_5, global_model)\n",
    "\n",
    "cli_list = [cl1, cl2, cl3, cl4, cl5]"
   ]
  },
  {
   "cell_type": "code",
   "execution_count": 18,
   "id": "d7e360fc",
   "metadata": {
    "scrolled": false
   },
   "outputs": [
    {
     "name": "stdout",
     "output_type": "stream",
     "text": [
      "Global Training Round: 1\n",
      "Training | Client index: 2\n"
     ]
    },
    {
     "name": "stderr",
     "output_type": "stream",
     "text": [
      "C:\\Users\\Asus\\AppData\\Roaming\\Python\\Python39\\site-packages\\xgboost\\sklearn.py:793: UserWarning: `early_stopping_rounds` in `fit` method is deprecated for better compatibility with scikit-learn, use `early_stopping_rounds` in constructor or`set_params` instead.\n",
      "  warnings.warn(\n"
     ]
    },
    {
     "name": "stdout",
     "output_type": "stream",
     "text": [
      "Training | Client index: 3\n"
     ]
    },
    {
     "name": "stderr",
     "output_type": "stream",
     "text": [
      "C:\\Users\\Asus\\AppData\\Roaming\\Python\\Python39\\site-packages\\xgboost\\sklearn.py:793: UserWarning: `early_stopping_rounds` in `fit` method is deprecated for better compatibility with scikit-learn, use `early_stopping_rounds` in constructor or`set_params` instead.\n",
      "  warnings.warn(\n"
     ]
    },
    {
     "name": "stdout",
     "output_type": "stream",
     "text": [
      "Training | Client index: 1\n"
     ]
    },
    {
     "name": "stderr",
     "output_type": "stream",
     "text": [
      "C:\\Users\\Asus\\AppData\\Roaming\\Python\\Python39\\site-packages\\xgboost\\sklearn.py:793: UserWarning: `early_stopping_rounds` in `fit` method is deprecated for better compatibility with scikit-learn, use `early_stopping_rounds` in constructor or`set_params` instead.\n",
      "  warnings.warn(\n"
     ]
    },
    {
     "name": "stdout",
     "output_type": "stream",
     "text": [
      "Training | Client index: 4\n"
     ]
    },
    {
     "name": "stderr",
     "output_type": "stream",
     "text": [
      "C:\\Users\\Asus\\AppData\\Roaming\\Python\\Python39\\site-packages\\xgboost\\sklearn.py:793: UserWarning: `early_stopping_rounds` in `fit` method is deprecated for better compatibility with scikit-learn, use `early_stopping_rounds` in constructor or`set_params` instead.\n",
      "  warnings.warn(\n"
     ]
    },
    {
     "name": "stdout",
     "output_type": "stream",
     "text": [
      "Training | Client index: 5\n"
     ]
    },
    {
     "name": "stderr",
     "output_type": "stream",
     "text": [
      "C:\\Users\\Asus\\AppData\\Roaming\\Python\\Python39\\site-packages\\xgboost\\sklearn.py:793: UserWarning: `early_stopping_rounds` in `fit` method is deprecated for better compatibility with scikit-learn, use `early_stopping_rounds` in constructor or`set_params` instead.\n",
      "  warnings.warn(\n"
     ]
    },
    {
     "name": "stdout",
     "output_type": "stream",
     "text": [
      "Training loss for Global Training Round:  1 is : 0.5218\n",
      "Training accuracy for Global Training Round:  1 is : 0.7394\n",
      "Global Training Round: 2\n",
      "Training | Client index: 5\n"
     ]
    },
    {
     "name": "stderr",
     "output_type": "stream",
     "text": [
      "C:\\Users\\Asus\\AppData\\Roaming\\Python\\Python39\\site-packages\\xgboost\\sklearn.py:793: UserWarning: `early_stopping_rounds` in `fit` method is deprecated for better compatibility with scikit-learn, use `early_stopping_rounds` in constructor or`set_params` instead.\n",
      "  warnings.warn(\n"
     ]
    },
    {
     "name": "stdout",
     "output_type": "stream",
     "text": [
      "Training | Client index: 1\n"
     ]
    },
    {
     "name": "stderr",
     "output_type": "stream",
     "text": [
      "C:\\Users\\Asus\\AppData\\Roaming\\Python\\Python39\\site-packages\\xgboost\\sklearn.py:793: UserWarning: `early_stopping_rounds` in `fit` method is deprecated for better compatibility with scikit-learn, use `early_stopping_rounds` in constructor or`set_params` instead.\n",
      "  warnings.warn(\n"
     ]
    },
    {
     "name": "stdout",
     "output_type": "stream",
     "text": [
      "Training | Client index: 4\n"
     ]
    },
    {
     "name": "stderr",
     "output_type": "stream",
     "text": [
      "C:\\Users\\Asus\\AppData\\Roaming\\Python\\Python39\\site-packages\\xgboost\\sklearn.py:793: UserWarning: `early_stopping_rounds` in `fit` method is deprecated for better compatibility with scikit-learn, use `early_stopping_rounds` in constructor or`set_params` instead.\n",
      "  warnings.warn(\n"
     ]
    },
    {
     "name": "stdout",
     "output_type": "stream",
     "text": [
      "Training | Client index: 2\n"
     ]
    },
    {
     "name": "stderr",
     "output_type": "stream",
     "text": [
      "C:\\Users\\Asus\\AppData\\Roaming\\Python\\Python39\\site-packages\\xgboost\\sklearn.py:793: UserWarning: `early_stopping_rounds` in `fit` method is deprecated for better compatibility with scikit-learn, use `early_stopping_rounds` in constructor or`set_params` instead.\n",
      "  warnings.warn(\n"
     ]
    },
    {
     "name": "stdout",
     "output_type": "stream",
     "text": [
      "Training | Client index: 3\n"
     ]
    },
    {
     "name": "stderr",
     "output_type": "stream",
     "text": [
      "C:\\Users\\Asus\\AppData\\Roaming\\Python\\Python39\\site-packages\\xgboost\\sklearn.py:793: UserWarning: `early_stopping_rounds` in `fit` method is deprecated for better compatibility with scikit-learn, use `early_stopping_rounds` in constructor or`set_params` instead.\n",
      "  warnings.warn(\n"
     ]
    },
    {
     "name": "stdout",
     "output_type": "stream",
     "text": [
      "Training loss for Global Training Round:  2 is : 0.5218\n",
      "Training accuracy for Global Training Round:  2 is : 0.8606\n",
      "Global Training Round: 3\n",
      "Training | Client index: 3\n"
     ]
    },
    {
     "name": "stderr",
     "output_type": "stream",
     "text": [
      "C:\\Users\\Asus\\AppData\\Roaming\\Python\\Python39\\site-packages\\xgboost\\sklearn.py:793: UserWarning: `early_stopping_rounds` in `fit` method is deprecated for better compatibility with scikit-learn, use `early_stopping_rounds` in constructor or`set_params` instead.\n",
      "  warnings.warn(\n"
     ]
    },
    {
     "name": "stdout",
     "output_type": "stream",
     "text": [
      "Training | Client index: 5\n"
     ]
    },
    {
     "name": "stderr",
     "output_type": "stream",
     "text": [
      "C:\\Users\\Asus\\AppData\\Roaming\\Python\\Python39\\site-packages\\xgboost\\sklearn.py:793: UserWarning: `early_stopping_rounds` in `fit` method is deprecated for better compatibility with scikit-learn, use `early_stopping_rounds` in constructor or`set_params` instead.\n",
      "  warnings.warn(\n"
     ]
    },
    {
     "name": "stdout",
     "output_type": "stream",
     "text": [
      "Training | Client index: 2\n"
     ]
    },
    {
     "name": "stderr",
     "output_type": "stream",
     "text": [
      "C:\\Users\\Asus\\AppData\\Roaming\\Python\\Python39\\site-packages\\xgboost\\sklearn.py:793: UserWarning: `early_stopping_rounds` in `fit` method is deprecated for better compatibility with scikit-learn, use `early_stopping_rounds` in constructor or`set_params` instead.\n",
      "  warnings.warn(\n"
     ]
    },
    {
     "name": "stdout",
     "output_type": "stream",
     "text": [
      "Training | Client index: 4\n"
     ]
    },
    {
     "name": "stderr",
     "output_type": "stream",
     "text": [
      "C:\\Users\\Asus\\AppData\\Roaming\\Python\\Python39\\site-packages\\xgboost\\sklearn.py:793: UserWarning: `early_stopping_rounds` in `fit` method is deprecated for better compatibility with scikit-learn, use `early_stopping_rounds` in constructor or`set_params` instead.\n",
      "  warnings.warn(\n"
     ]
    },
    {
     "name": "stdout",
     "output_type": "stream",
     "text": [
      "Training | Client index: 1\n"
     ]
    },
    {
     "name": "stderr",
     "output_type": "stream",
     "text": [
      "C:\\Users\\Asus\\AppData\\Roaming\\Python\\Python39\\site-packages\\xgboost\\sklearn.py:793: UserWarning: `early_stopping_rounds` in `fit` method is deprecated for better compatibility with scikit-learn, use `early_stopping_rounds` in constructor or`set_params` instead.\n",
      "  warnings.warn(\n"
     ]
    },
    {
     "name": "stdout",
     "output_type": "stream",
     "text": [
      "Training loss for Global Training Round:  3 is : 0.5218\n",
      "Training accuracy for Global Training Round:  3 is : 0.7742\n",
      "Global Training Round: 4\n",
      "Training | Client index: 1\n"
     ]
    },
    {
     "name": "stderr",
     "output_type": "stream",
     "text": [
      "C:\\Users\\Asus\\AppData\\Roaming\\Python\\Python39\\site-packages\\xgboost\\sklearn.py:793: UserWarning: `early_stopping_rounds` in `fit` method is deprecated for better compatibility with scikit-learn, use `early_stopping_rounds` in constructor or`set_params` instead.\n",
      "  warnings.warn(\n"
     ]
    },
    {
     "name": "stdout",
     "output_type": "stream",
     "text": [
      "Training | Client index: 4\n"
     ]
    },
    {
     "name": "stderr",
     "output_type": "stream",
     "text": [
      "C:\\Users\\Asus\\AppData\\Roaming\\Python\\Python39\\site-packages\\xgboost\\sklearn.py:793: UserWarning: `early_stopping_rounds` in `fit` method is deprecated for better compatibility with scikit-learn, use `early_stopping_rounds` in constructor or`set_params` instead.\n",
      "  warnings.warn(\n"
     ]
    },
    {
     "name": "stdout",
     "output_type": "stream",
     "text": [
      "Training | Client index: 3\n"
     ]
    },
    {
     "name": "stderr",
     "output_type": "stream",
     "text": [
      "C:\\Users\\Asus\\AppData\\Roaming\\Python\\Python39\\site-packages\\xgboost\\sklearn.py:793: UserWarning: `early_stopping_rounds` in `fit` method is deprecated for better compatibility with scikit-learn, use `early_stopping_rounds` in constructor or`set_params` instead.\n",
      "  warnings.warn(\n"
     ]
    },
    {
     "name": "stdout",
     "output_type": "stream",
     "text": [
      "Training | Client index: 2\n"
     ]
    },
    {
     "name": "stderr",
     "output_type": "stream",
     "text": [
      "C:\\Users\\Asus\\AppData\\Roaming\\Python\\Python39\\site-packages\\xgboost\\sklearn.py:793: UserWarning: `early_stopping_rounds` in `fit` method is deprecated for better compatibility with scikit-learn, use `early_stopping_rounds` in constructor or`set_params` instead.\n",
      "  warnings.warn(\n"
     ]
    },
    {
     "name": "stdout",
     "output_type": "stream",
     "text": [
      "Training | Client index: 5\n"
     ]
    },
    {
     "name": "stderr",
     "output_type": "stream",
     "text": [
      "C:\\Users\\Asus\\AppData\\Roaming\\Python\\Python39\\site-packages\\xgboost\\sklearn.py:793: UserWarning: `early_stopping_rounds` in `fit` method is deprecated for better compatibility with scikit-learn, use `early_stopping_rounds` in constructor or`set_params` instead.\n",
      "  warnings.warn(\n"
     ]
    },
    {
     "name": "stdout",
     "output_type": "stream",
     "text": [
      "Training loss for Global Training Round:  4 is : 0.5218\n",
      "Training accuracy for Global Training Round:  4 is : 0.7394\n"
     ]
    }
   ],
   "source": [
    "c = 1    #Fraction of Clients to be used\n",
    "global_training_rounds = 4\n",
    "train_loss = []\n",
    "train_accuracy = []\n",
    "for i in range(global_training_rounds):\n",
    "    m = max(c*5, 1)\n",
    "    st = np.random.choice(5, m, replace = False)    #random set of m clients\n",
    "    local_w = []\n",
    "    local_loss = []\n",
    "    print('Global Training Round: ', end = \"\")\n",
    "    print(i+1)\n",
    "    for k in st:\n",
    "        print('Training | Client index: ', end = \"\")\n",
    "        print(k+1)\n",
    "        w, loss = cli_list[k].generate_weights(global_model)\n",
    "        local_w.append(w)\n",
    "        local_loss.append(loss)\n",
    "        #w(t+1)k = clientupdate(k, wt)\n",
    "        #w(t+1) = sum((nk/n) * w(t+1)k)\n",
    "    global_model = update_model(global_model, local_w)\n",
    "    train_loss.append(sum(local_loss)/len(local_loss))\n",
    "    # Calculate avg training accuracy over all users at every epoch\n",
    "    list_acc = []\n",
    "    for j in range(5):\n",
    "        acc = cli_list[j].inference(global_model)\n",
    "        list_acc.append(sum(acc))\n",
    "    train_accuracy.append(sum(list_acc)/len(list_acc))\n",
    "    print(\"Training loss for Global Training Round: %2d is : %2.4f\" % (i+1, train_loss[i]))\n",
    "    print(\"Training accuracy for Global Training Round: %2d is : %2.4f\" % (i+1, train_accuracy[i]))"
   ]
  },
  {
   "cell_type": "code",
   "execution_count": 11,
   "id": "412149e4",
   "metadata": {},
   "outputs": [],
   "source": [
    "#Find test accuracy and loss"
   ]
  },
  {
   "cell_type": "code",
   "execution_count": null,
   "id": "962107d4",
   "metadata": {},
   "outputs": [],
   "source": []
  },
  {
   "cell_type": "code",
   "execution_count": null,
   "id": "32afe3f5",
   "metadata": {},
   "outputs": [],
   "source": []
  },
  {
   "cell_type": "code",
   "execution_count": 12,
   "id": "2e3787dd",
   "metadata": {},
   "outputs": [],
   "source": [
    "trees = global_model.get_booster().trees_to_dataframe()"
   ]
  },
  {
   "cell_type": "code",
   "execution_count": 13,
   "id": "cedb12b2",
   "metadata": {
    "scrolled": true
   },
   "outputs": [
    {
     "data": {
      "text/html": [
       "<div>\n",
       "<style scoped>\n",
       "    .dataframe tbody tr th:only-of-type {\n",
       "        vertical-align: middle;\n",
       "    }\n",
       "\n",
       "    .dataframe tbody tr th {\n",
       "        vertical-align: top;\n",
       "    }\n",
       "\n",
       "    .dataframe thead th {\n",
       "        text-align: right;\n",
       "    }\n",
       "</style>\n",
       "<table border=\"1\" class=\"dataframe\">\n",
       "  <thead>\n",
       "    <tr style=\"text-align: right;\">\n",
       "      <th></th>\n",
       "      <th>Tree</th>\n",
       "      <th>Node</th>\n",
       "      <th>ID</th>\n",
       "      <th>Feature</th>\n",
       "      <th>Split</th>\n",
       "      <th>Yes</th>\n",
       "      <th>No</th>\n",
       "      <th>Missing</th>\n",
       "      <th>Gain</th>\n",
       "      <th>Cover</th>\n",
       "      <th>Category</th>\n",
       "    </tr>\n",
       "  </thead>\n",
       "  <tbody>\n",
       "    <tr>\n",
       "      <th>0</th>\n",
       "      <td>0</td>\n",
       "      <td>0</td>\n",
       "      <td>0-0</td>\n",
       "      <td>V288</td>\n",
       "      <td>1.0</td>\n",
       "      <td>0-1</td>\n",
       "      <td>0-2</td>\n",
       "      <td>0-1</td>\n",
       "      <td>17.150059</td>\n",
       "      <td>35.750000</td>\n",
       "      <td>NaN</td>\n",
       "    </tr>\n",
       "    <tr>\n",
       "      <th>1</th>\n",
       "      <td>0</td>\n",
       "      <td>1</td>\n",
       "      <td>0-1</td>\n",
       "      <td>V1714</td>\n",
       "      <td>1.0</td>\n",
       "      <td>0-3</td>\n",
       "      <td>0-4</td>\n",
       "      <td>0-3</td>\n",
       "      <td>6.059588</td>\n",
       "      <td>28.750000</td>\n",
       "      <td>NaN</td>\n",
       "    </tr>\n",
       "    <tr>\n",
       "      <th>2</th>\n",
       "      <td>0</td>\n",
       "      <td>2</td>\n",
       "      <td>0-2</td>\n",
       "      <td>V3167</td>\n",
       "      <td>2.0</td>\n",
       "      <td>0-5</td>\n",
       "      <td>0-6</td>\n",
       "      <td>0-5</td>\n",
       "      <td>2.571428</td>\n",
       "      <td>7.000000</td>\n",
       "      <td>NaN</td>\n",
       "    </tr>\n",
       "    <tr>\n",
       "      <th>3</th>\n",
       "      <td>0</td>\n",
       "      <td>3</td>\n",
       "      <td>0-3</td>\n",
       "      <td>V287</td>\n",
       "      <td>1.0</td>\n",
       "      <td>0-7</td>\n",
       "      <td>0-8</td>\n",
       "      <td>0-7</td>\n",
       "      <td>5.368132</td>\n",
       "      <td>27.000000</td>\n",
       "      <td>NaN</td>\n",
       "    </tr>\n",
       "    <tr>\n",
       "      <th>4</th>\n",
       "      <td>0</td>\n",
       "      <td>4</td>\n",
       "      <td>0-4</td>\n",
       "      <td>Leaf</td>\n",
       "      <td>NaN</td>\n",
       "      <td>NaN</td>\n",
       "      <td>NaN</td>\n",
       "      <td>NaN</td>\n",
       "      <td>-0.127273</td>\n",
       "      <td>1.750000</td>\n",
       "      <td>NaN</td>\n",
       "    </tr>\n",
       "    <tr>\n",
       "      <th>...</th>\n",
       "      <td>...</td>\n",
       "      <td>...</td>\n",
       "      <td>...</td>\n",
       "      <td>...</td>\n",
       "      <td>...</td>\n",
       "      <td>...</td>\n",
       "      <td>...</td>\n",
       "      <td>...</td>\n",
       "      <td>...</td>\n",
       "      <td>...</td>\n",
       "      <td>...</td>\n",
       "    </tr>\n",
       "    <tr>\n",
       "      <th>1050</th>\n",
       "      <td>92</td>\n",
       "      <td>6</td>\n",
       "      <td>92-6</td>\n",
       "      <td>Leaf</td>\n",
       "      <td>NaN</td>\n",
       "      <td>NaN</td>\n",
       "      <td>NaN</td>\n",
       "      <td>NaN</td>\n",
       "      <td>0.049298</td>\n",
       "      <td>1.513802</td>\n",
       "      <td>NaN</td>\n",
       "    </tr>\n",
       "    <tr>\n",
       "      <th>1051</th>\n",
       "      <td>92</td>\n",
       "      <td>7</td>\n",
       "      <td>92-7</td>\n",
       "      <td>V3740</td>\n",
       "      <td>2.0</td>\n",
       "      <td>92-9</td>\n",
       "      <td>92-10</td>\n",
       "      <td>92-9</td>\n",
       "      <td>0.455433</td>\n",
       "      <td>11.856306</td>\n",
       "      <td>NaN</td>\n",
       "    </tr>\n",
       "    <tr>\n",
       "      <th>1052</th>\n",
       "      <td>92</td>\n",
       "      <td>8</td>\n",
       "      <td>92-8</td>\n",
       "      <td>Leaf</td>\n",
       "      <td>NaN</td>\n",
       "      <td>NaN</td>\n",
       "      <td>NaN</td>\n",
       "      <td>NaN</td>\n",
       "      <td>0.040641</td>\n",
       "      <td>1.025197</td>\n",
       "      <td>NaN</td>\n",
       "    </tr>\n",
       "    <tr>\n",
       "      <th>1053</th>\n",
       "      <td>92</td>\n",
       "      <td>9</td>\n",
       "      <td>92-9</td>\n",
       "      <td>Leaf</td>\n",
       "      <td>NaN</td>\n",
       "      <td>NaN</td>\n",
       "      <td>NaN</td>\n",
       "      <td>NaN</td>\n",
       "      <td>-0.028623</td>\n",
       "      <td>9.931289</td>\n",
       "      <td>NaN</td>\n",
       "    </tr>\n",
       "    <tr>\n",
       "      <th>1054</th>\n",
       "      <td>92</td>\n",
       "      <td>10</td>\n",
       "      <td>92-10</td>\n",
       "      <td>Leaf</td>\n",
       "      <td>NaN</td>\n",
       "      <td>NaN</td>\n",
       "      <td>NaN</td>\n",
       "      <td>NaN</td>\n",
       "      <td>0.017634</td>\n",
       "      <td>1.925018</td>\n",
       "      <td>NaN</td>\n",
       "    </tr>\n",
       "  </tbody>\n",
       "</table>\n",
       "<p>1055 rows × 11 columns</p>\n",
       "</div>"
      ],
      "text/plain": [
       "      Tree  Node     ID Feature  Split   Yes     No Missing       Gain  \\\n",
       "0        0     0    0-0    V288    1.0   0-1    0-2     0-1  17.150059   \n",
       "1        0     1    0-1   V1714    1.0   0-3    0-4     0-3   6.059588   \n",
       "2        0     2    0-2   V3167    2.0   0-5    0-6     0-5   2.571428   \n",
       "3        0     3    0-3    V287    1.0   0-7    0-8     0-7   5.368132   \n",
       "4        0     4    0-4    Leaf    NaN   NaN    NaN     NaN  -0.127273   \n",
       "...    ...   ...    ...     ...    ...   ...    ...     ...        ...   \n",
       "1050    92     6   92-6    Leaf    NaN   NaN    NaN     NaN   0.049298   \n",
       "1051    92     7   92-7   V3740    2.0  92-9  92-10    92-9   0.455433   \n",
       "1052    92     8   92-8    Leaf    NaN   NaN    NaN     NaN   0.040641   \n",
       "1053    92     9   92-9    Leaf    NaN   NaN    NaN     NaN  -0.028623   \n",
       "1054    92    10  92-10    Leaf    NaN   NaN    NaN     NaN   0.017634   \n",
       "\n",
       "          Cover  Category  \n",
       "0     35.750000       NaN  \n",
       "1     28.750000       NaN  \n",
       "2      7.000000       NaN  \n",
       "3     27.000000       NaN  \n",
       "4      1.750000       NaN  \n",
       "...         ...       ...  \n",
       "1050   1.513802       NaN  \n",
       "1051  11.856306       NaN  \n",
       "1052   1.025197       NaN  \n",
       "1053   9.931289       NaN  \n",
       "1054   1.925018       NaN  \n",
       "\n",
       "[1055 rows x 11 columns]"
      ]
     },
     "execution_count": 13,
     "metadata": {},
     "output_type": "execute_result"
    }
   ],
   "source": [
    "trees"
   ]
  },
  {
   "cell_type": "code",
   "execution_count": 14,
   "id": "46d75ff6",
   "metadata": {},
   "outputs": [
    {
     "data": {
      "text/plain": [
       "4      -0.127273\n",
       "5      -0.171429\n",
       "6      -0.000000\n",
       "8      -0.100000\n",
       "9       0.058333\n",
       "          ...   \n",
       "1048    0.015782\n",
       "1050    0.049298\n",
       "1052    0.040641\n",
       "1053   -0.028623\n",
       "1054    0.017634\n",
       "Name: Gain, Length: 574, dtype: float64"
      ]
     },
     "execution_count": 14,
     "metadata": {},
     "output_type": "execute_result"
    }
   ],
   "source": [
    "trees.loc[trees['Feature'] == 'Leaf'][\"Gain\"]"
   ]
  },
  {
   "cell_type": "code",
   "execution_count": 15,
   "id": "2395c061",
   "metadata": {},
   "outputs": [],
   "source": [
    "#Possible Loophole: Using full batch instead of splitting in client_update [fedavg, mcmahan]"
   ]
  },
  {
   "cell_type": "code",
   "execution_count": 16,
   "id": "c9a217e6",
   "metadata": {},
   "outputs": [
    {
     "data": {
      "text/plain": [
       "93"
      ]
     },
     "execution_count": 16,
     "metadata": {},
     "output_type": "execute_result"
    }
   ],
   "source": [
    "dump_list = global_model.get_booster().get_dump()\n",
    "len(dump_list)"
   ]
  },
  {
   "cell_type": "code",
   "execution_count": null,
   "id": "072a549c",
   "metadata": {},
   "outputs": [],
   "source": []
  },
  {
   "cell_type": "code",
   "execution_count": null,
   "id": "92c2f6d5",
   "metadata": {},
   "outputs": [],
   "source": []
  }
 ],
 "metadata": {
  "kernelspec": {
   "display_name": "Python 3 (ipykernel)",
   "language": "python",
   "name": "python3"
  },
  "language_info": {
   "codemirror_mode": {
    "name": "ipython",
    "version": 3
   },
   "file_extension": ".py",
   "mimetype": "text/x-python",
   "name": "python",
   "nbconvert_exporter": "python",
   "pygments_lexer": "ipython3",
   "version": "3.9.12"
  }
 },
 "nbformat": 4,
 "nbformat_minor": 5
}
