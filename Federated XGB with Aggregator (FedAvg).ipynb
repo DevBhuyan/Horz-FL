{
 "cells": [
  {
   "cell_type": "markdown",
   "id": "053fe6a5",
   "metadata": {},
   "source": [
    "Federated XGBoost based on FedAvg - as proposed by McMahan"
   ]
  },
  {
   "cell_type": "code",
   "execution_count": 25,
   "id": "02b19d2e",
   "metadata": {},
   "outputs": [],
   "source": [
    "import pandas as pd\n",
    "import numpy as np\n",
    "import matplotlib.pyplot as plt\n",
    "import pickle\n",
    "import xgboost as xgb\n",
    "from sklearn.model_selection import train_test_split\n",
    "from sklearn.metrics import accuracy_score"
   ]
  },
  {
   "cell_type": "code",
   "execution_count": 26,
   "id": "ec6c91c2",
   "metadata": {},
   "outputs": [
    {
     "data": {
      "text/plain": [
       "(1427, 4323)"
      ]
     },
     "execution_count": 26,
     "metadata": {},
     "output_type": "execute_result"
    }
   ],
   "source": [
    "file = 'RELATHE.csv'\n",
    "df_main = pd.read_csv(file)\n",
    "df_main = df_main.sample(frac = 1)\n",
    "df_main.shape"
   ]
  },
  {
   "cell_type": "code",
   "execution_count": 27,
   "id": "72e1e797",
   "metadata": {
    "scrolled": true
   },
   "outputs": [
    {
     "data": {
      "text/plain": [
       "<bound method NDFrame.head of      V1  V2  V3  V4  V5  V6  V7  V8  V9  V10  ...  V4314  V4315  V4316  V4317  \\\n",
       "425   0   0   0   0   0   0   0   0   0    0  ...      0      0      0      0   \n",
       "27    0   0   0   0   0   0   0   0   0    0  ...      0      0      0      0   \n",
       "51    0   0   0   0   0   0   0   0   0    0  ...      0      0      0      0   \n",
       "813   0   0   0   0   0   0   0   0   0    0  ...      0      0      0      0   \n",
       "371   0   0   0   0   0   0   0   0   0    0  ...      0      0      0      0   \n",
       "..   ..  ..  ..  ..  ..  ..  ..  ..  ..  ...  ...    ...    ...    ...    ...   \n",
       "983   0   0   0   0   0   0   0   0   0    0  ...      0      0      0      0   \n",
       "736   0   0   0   0   0   0   0   0   0    0  ...      0      0      0      0   \n",
       "726   0   0   0   0   0   0   0   0   0    0  ...      0      0      0      0   \n",
       "134   0   0   0   0   0   0   0   0   0    0  ...      0      0      0      0   \n",
       "515   0   0   0   0   0   0   0   0   0    0  ...      0      0      0      0   \n",
       "\n",
       "     V4318  V4319  V4320  V4321  V4322  TARGET  \n",
       "425      0      0      0      0      0       0  \n",
       "27       1      0      0      0      0       0  \n",
       "51       0      0      0      0      0       0  \n",
       "813      0      0      0      0      0       1  \n",
       "371      0      0      0      0      0       0  \n",
       "..     ...    ...    ...    ...    ...     ...  \n",
       "983      0      0      0      0      0       1  \n",
       "736      0      0      0      0      0       0  \n",
       "726      0      0      0      0      0       0  \n",
       "134      0      0      0      0      0       0  \n",
       "515      0      0      0      0      0       0  \n",
       "\n",
       "[1427 rows x 4323 columns]>"
      ]
     },
     "execution_count": 27,
     "metadata": {},
     "output_type": "execute_result"
    }
   ],
   "source": [
    "df_main.head"
   ]
  },
  {
   "cell_type": "code",
   "execution_count": 28,
   "id": "bea1083d",
   "metadata": {},
   "outputs": [],
   "source": [
    "# DATA DIVISION\n",
    "\n",
    "df_1 = df_main.iloc[:300, :]\n",
    "df_2 = df_main.iloc[300:600, :]\n",
    "df_3 = df_main.iloc[600:900, :]\n",
    "df_4 = df_main.iloc[900:1200, :]\n",
    "df_5 = df_main.iloc[1200:, :]"
   ]
  },
  {
   "cell_type": "code",
   "execution_count": 29,
   "id": "6f62b7ee",
   "metadata": {},
   "outputs": [],
   "source": [
    "global_model = pickle.load(open(\"xgb_clf.dat\", \"rb\"))"
   ]
  },
  {
   "cell_type": "code",
   "execution_count": 53,
   "id": "fbbc42b9",
   "metadata": {},
   "outputs": [],
   "source": [
    "class Client():\n",
    "    def __init__(self, cli, df, model):\n",
    "        self.cli = cli\n",
    "        self.df = df\n",
    "        self.model = model\n",
    "    def generate_weights(self):\n",
    "        df = self.df\n",
    "        model = self.model\n",
    "        X = df.drop('TARGET', axis = 1)\n",
    "        y = df['TARGET']\n",
    "        X_train, X_test, y_train, y_test = train_test_split(X, y, test_size = 0.2, random_state = 0)\n",
    "        eval_set = [(X_test, y_test)]\n",
    "        model.fit(X_train, \n",
    "                y_train, \n",
    "                early_stopping_rounds=15,                  \n",
    "                eval_set=eval_set,\n",
    "                verbose = False)\n",
    "        results = model.evals_result()\n",
    "        return model.get_booster().trees_to_dataframe(), sum(results['validation_0']['logloss'])/len(results['validation_0']['logloss'])\n",
    "    def inference(self, model):    #return the acc, loss of given model on local dataset\n",
    "        df = self.df\n",
    "        self.model = model\n",
    "        X = df.drop('TARGET', axis = 1)\n",
    "        y = df['TARGET']\n",
    "        X_train, X_test, y_train, y_test = train_test_split(X, y, test_size = 0.2, random_state = 0)\n",
    "        y_pred = model.predict(X_test)\n",
    "        return accuracy_score(y_test, y_pred), "
   ]
  },
  {
   "cell_type": "code",
   "execution_count": 54,
   "id": "88d3e5f6",
   "metadata": {},
   "outputs": [],
   "source": [
    "def update_model(global_model, local_weights):    #change the weights in the model itself\n",
    "    # local weights is a trees to dataframe\n",
    "    \n",
    "    global_new_model = global_model\n",
    "    return global_new_model"
   ]
  },
  {
   "cell_type": "code",
   "execution_count": 55,
   "id": "7ebc5729",
   "metadata": {},
   "outputs": [],
   "source": [
    "cl1 = Client(1, df_1, global_model)\n",
    "cl2 = Client(2, df_2, global_model)\n",
    "cl3 = Client(3, df_3, global_model)\n",
    "cl4 = Client(4, df_4, global_model)\n",
    "cl5 = Client(5, df_5, global_model)\n",
    "\n",
    "cli_list = [cl1, cl2, cl3, cl4, cl5]"
   ]
  },
  {
   "cell_type": "markdown",
   "id": "7b3118f7",
   "metadata": {},
   "source": [
    "# DRIVER CODE"
   ]
  },
  {
   "cell_type": "code",
   "execution_count": 56,
   "id": "d7e360fc",
   "metadata": {
    "scrolled": true
   },
   "outputs": [
    {
     "name": "stdout",
     "output_type": "stream",
     "text": [
      "Global Training Round: 1\n",
      "Training | Client index: 1\n"
     ]
    },
    {
     "name": "stderr",
     "output_type": "stream",
     "text": [
      "C:\\Users\\Asus\\AppData\\Roaming\\Python\\Python39\\site-packages\\xgboost\\sklearn.py:793: UserWarning: `early_stopping_rounds` in `fit` method is deprecated for better compatibility with scikit-learn, use `early_stopping_rounds` in constructor or`set_params` instead.\n",
      "  warnings.warn(\n"
     ]
    },
    {
     "name": "stdout",
     "output_type": "stream",
     "text": [
      "1\n",
      "Training | Client index: 2\n"
     ]
    },
    {
     "name": "stderr",
     "output_type": "stream",
     "text": [
      "C:\\Users\\Asus\\AppData\\Roaming\\Python\\Python39\\site-packages\\xgboost\\sklearn.py:793: UserWarning: `early_stopping_rounds` in `fit` method is deprecated for better compatibility with scikit-learn, use `early_stopping_rounds` in constructor or`set_params` instead.\n",
      "  warnings.warn(\n"
     ]
    },
    {
     "name": "stdout",
     "output_type": "stream",
     "text": [
      "2\n",
      "Training | Client index: 4\n"
     ]
    },
    {
     "name": "stderr",
     "output_type": "stream",
     "text": [
      "C:\\Users\\Asus\\AppData\\Roaming\\Python\\Python39\\site-packages\\xgboost\\sklearn.py:793: UserWarning: `early_stopping_rounds` in `fit` method is deprecated for better compatibility with scikit-learn, use `early_stopping_rounds` in constructor or`set_params` instead.\n",
      "  warnings.warn(\n"
     ]
    },
    {
     "name": "stdout",
     "output_type": "stream",
     "text": [
      "3\n",
      "Training | Client index: 3\n"
     ]
    },
    {
     "name": "stderr",
     "output_type": "stream",
     "text": [
      "C:\\Users\\Asus\\AppData\\Roaming\\Python\\Python39\\site-packages\\xgboost\\sklearn.py:793: UserWarning: `early_stopping_rounds` in `fit` method is deprecated for better compatibility with scikit-learn, use `early_stopping_rounds` in constructor or`set_params` instead.\n",
      "  warnings.warn(\n"
     ]
    },
    {
     "name": "stdout",
     "output_type": "stream",
     "text": [
      "4\n",
      "Training | Client index: 5\n"
     ]
    },
    {
     "name": "stderr",
     "output_type": "stream",
     "text": [
      "C:\\Users\\Asus\\AppData\\Roaming\\Python\\Python39\\site-packages\\xgboost\\sklearn.py:793: UserWarning: `early_stopping_rounds` in `fit` method is deprecated for better compatibility with scikit-learn, use `early_stopping_rounds` in constructor or`set_params` instead.\n",
      "  warnings.warn(\n"
     ]
    },
    {
     "name": "stdout",
     "output_type": "stream",
     "text": [
      "5\n",
      "Training loss for Global Training Round:  1 is : 0.5411\n",
      "Training accuracy for Global Training Round:  1 is : 0.7284\n"
     ]
    }
   ],
   "source": [
    "c = 1    #Fraction of Clients to be used\n",
    "global_training_rounds = 1\n",
    "train_loss = []\n",
    "train_accuracy = []\n",
    "for i in range(global_training_rounds):\n",
    "    m = max(c*5, 1)\n",
    "    st = np.random.choice(5, m, replace = False)    #random set of m clients\n",
    "    local_w = []\n",
    "    local_loss = []\n",
    "    print('Global Training Round: ', end = \"\")\n",
    "    print(i+1)\n",
    "    for k in st:\n",
    "        print('Training | Client index: ', end = \"\")\n",
    "        print(k+1)\n",
    "        w, loss = cli_list[k].generate_weights()    #w is a trees to dataframe element\n",
    "        local_w.append(w)\n",
    "        local_loss.append(loss)\n",
    "        #w(t+1)k = clientupdate(k, wt)\n",
    "        #w(t+1) = sum((nk/n) * w(t+1)k)\n",
    "    global_model = update_model(global_model, local_w)\n",
    "    train_loss.append(sum(local_loss)/len(local_loss))\n",
    "    # Calculate avg training accuracy over all users at every epoch\n",
    "    list_acc = []\n",
    "    for j in range(5):\n",
    "        acc = cli_list[j].inference(global_model)\n",
    "        list_acc.append(sum(acc))\n",
    "    train_accuracy.append(sum(list_acc)/len(list_acc))\n",
    "    print(\"Training loss for Global Training Round: %2d is : %2.4f\" % (i+1, train_loss[i]))\n",
    "    print(\"Training accuracy for Global Training Round: %2d is : %2.4f\" % (i+1, train_accuracy[i]))"
   ]
  },
  {
   "cell_type": "code",
   "execution_count": 11,
   "id": "412149e4",
   "metadata": {},
   "outputs": [],
   "source": [
    "#Find test accuracy and loss"
   ]
  },
  {
   "cell_type": "code",
   "execution_count": null,
   "id": "0c567e74",
   "metadata": {},
   "outputs": [],
   "source": []
  },
  {
   "cell_type": "code",
   "execution_count": null,
   "id": "b9c86b87",
   "metadata": {},
   "outputs": [],
   "source": []
  },
  {
   "cell_type": "code",
   "execution_count": 14,
   "id": "46d75ff6",
   "metadata": {},
   "outputs": [
    {
     "data": {
      "text/plain": [
       "4      -0.127273\n",
       "5      -0.171429\n",
       "6      -0.000000\n",
       "8      -0.100000\n",
       "9       0.058333\n",
       "          ...   \n",
       "1048    0.015782\n",
       "1050    0.049298\n",
       "1052    0.040641\n",
       "1053   -0.028623\n",
       "1054    0.017634\n",
       "Name: Gain, Length: 574, dtype: float64"
      ]
     },
     "execution_count": 14,
     "metadata": {},
     "output_type": "execute_result"
    }
   ],
   "source": [
    "trees.loc[trees['Feature'] == 'Leaf'][\"Gain\"]"
   ]
  },
  {
   "cell_type": "code",
   "execution_count": 61,
   "id": "b2bd87ff",
   "metadata": {
    "scrolled": true
   },
   "outputs": [
    {
     "name": "stdout",
     "output_type": "stream",
     "text": [
      "      Tree  Node     ID Feature  Split    Yes     No Missing       Gain  \\\n",
      "0        0     0    0-0    V288    1.0    0-1    0-2     0-1  22.504303   \n",
      "1        0     1    0-1   V2070    1.0    0-3    0-4     0-3   7.828083   \n",
      "2        0     2    0-2   V2969    1.0    0-5    0-6     0-5   2.211075   \n",
      "3        0     3    0-3   V1594    1.0    0-7    0-8     0-7   5.604492   \n",
      "4        0     4    0-4   V3817    1.0    0-9   0-10     0-9   2.103593   \n",
      "...    ...   ...    ...     ...    ...    ...    ...     ...        ...   \n",
      "1169   107     4  107-4    Leaf    NaN    NaN    NaN     NaN  -0.045068   \n",
      "1170   107     5  107-5   V2411    2.0  107-7  107-8   107-7   0.342338   \n",
      "1171   107     6  107-6    Leaf    NaN    NaN    NaN     NaN  -0.013421   \n",
      "1172   107     7  107-7    Leaf    NaN    NaN    NaN     NaN   0.040409   \n",
      "1173   107     8  107-8    Leaf    NaN    NaN    NaN     NaN  -0.010202   \n",
      "\n",
      "          Cover  Category  \n",
      "0     35.750000       NaN  \n",
      "1     28.500000       NaN  \n",
      "2      7.250000       NaN  \n",
      "3     24.750000       NaN  \n",
      "4      3.750000       NaN  \n",
      "...         ...       ...  \n",
      "1169   1.115245       NaN  \n",
      "1170  11.485558       NaN  \n",
      "1171   1.583852       NaN  \n",
      "1172  10.373344       NaN  \n",
      "1173   1.112213       NaN  \n",
      "\n",
      "[1174 rows x 11 columns]\n",
      "     Tree  Node     ID Feature  Split  Yes   No Missing       Gain      Cover  \\\n",
      "0       0     0    0-0    V288    1.0  0-1  0-2     0-1  17.911390  35.750000   \n",
      "1       0     1    0-1    V398    1.0  0-3  0-4     0-3   7.355767  29.500000   \n",
      "2       0     2    0-2    Leaf    NaN  NaN  NaN     NaN  -0.158621   6.250000   \n",
      "3       0     3    0-3    V981    1.0  0-5  0-6     0-5   4.374548  27.500000   \n",
      "4       0     4    0-4    Leaf    NaN  NaN  NaN     NaN  -0.133333   2.000000   \n",
      "..    ...   ...    ...     ...    ...  ...  ...     ...        ...        ...   \n",
      "757    67    10  67-10    Leaf    NaN  NaN  NaN     NaN  -0.033347   1.954242   \n",
      "758    67    11  67-11    Leaf    NaN  NaN  NaN     NaN  -0.034442   2.658956   \n",
      "759    67    12  67-12    Leaf    NaN  NaN  NaN     NaN  -0.098432   2.653433   \n",
      "760    67    13  67-13    Leaf    NaN  NaN  NaN     NaN   0.059008   8.985441   \n",
      "761    67    14  67-14    Leaf    NaN  NaN  NaN     NaN  -0.025603   1.744441   \n",
      "\n",
      "     Category  \n",
      "0         NaN  \n",
      "1         NaN  \n",
      "2         NaN  \n",
      "3         NaN  \n",
      "4         NaN  \n",
      "..        ...  \n",
      "757       NaN  \n",
      "758       NaN  \n",
      "759       NaN  \n",
      "760       NaN  \n",
      "761       NaN  \n",
      "\n",
      "[762 rows x 11 columns]\n",
      "     Tree  Node     ID Feature  Split  Yes   No Missing       Gain      Cover  \\\n",
      "0       0     0    0-0    V288    1.0  0-1  0-2     0-1  15.381571  35.750000   \n",
      "1       0     1    0-1   V2176    1.0  0-3  0-4     0-3   6.522347  29.500000   \n",
      "2       0     2    0-2    V591    1.0  0-5  0-6     0-5   2.023988   6.250000   \n",
      "3       0     3    0-3   V4193    2.0  0-7  0-8     0-7   7.303114  28.250000   \n",
      "4       0     4    0-4    Leaf    NaN  NaN  NaN     NaN  -0.111111   1.250000   \n",
      "..    ...   ...    ...     ...    ...  ...  ...     ...        ...        ...   \n",
      "927    79     8   79-8    Leaf    NaN  NaN  NaN     NaN   0.041526   3.581567   \n",
      "928    79     9   79-9    Leaf    NaN  NaN  NaN     NaN  -0.012652   4.154090   \n",
      "929    79    10  79-10    Leaf    NaN  NaN  NaN     NaN  -0.079598   4.087067   \n",
      "930    79    11  79-11    Leaf    NaN  NaN  NaN     NaN   0.003995   2.801857   \n",
      "931    79    12  79-12    Leaf    NaN  NaN  NaN     NaN  -0.040367   1.111504   \n",
      "\n",
      "     Category  \n",
      "0         NaN  \n",
      "1         NaN  \n",
      "2         NaN  \n",
      "3         NaN  \n",
      "4         NaN  \n",
      "..        ...  \n",
      "927       NaN  \n",
      "928       NaN  \n",
      "929       NaN  \n",
      "930       NaN  \n",
      "931       NaN  \n",
      "\n",
      "[932 rows x 11 columns]\n",
      "     Tree  Node    ID Feature  Split   Yes    No Missing       Gain  \\\n",
      "0       0     0   0-0    V288    1.0   0-1   0-2     0-1  26.710987   \n",
      "1       0     1   0-1   V3615    1.0   0-3   0-4     0-3   9.153091   \n",
      "2       0     2   0-2    Leaf    NaN   NaN   NaN     NaN  -0.178378   \n",
      "3       0     3   0-3   V3528    1.0   0-5   0-6     0-5   6.899127   \n",
      "4       0     4   0-4    Leaf    NaN   NaN   NaN     NaN   0.152941   \n",
      "..    ...   ...   ...     ...    ...   ...   ...     ...        ...   \n",
      "689    61     4  61-4    Leaf    NaN   NaN   NaN     NaN   0.071602   \n",
      "690    61     5  61-5   V2295    1.0  61-7  61-8    61-7   1.237226   \n",
      "691    61     6  61-6    Leaf    NaN   NaN   NaN     NaN   0.060629   \n",
      "692    61     7  61-7    Leaf    NaN   NaN   NaN     NaN  -0.039874   \n",
      "693    61     8  61-8    Leaf    NaN   NaN   NaN     NaN   0.042967   \n",
      "\n",
      "         Cover  Category  \n",
      "0    35.750000       NaN  \n",
      "1    27.500000       NaN  \n",
      "2     8.250000       NaN  \n",
      "3    24.250000       NaN  \n",
      "4     3.250000       NaN  \n",
      "..         ...       ...  \n",
      "689   1.121185       NaN  \n",
      "690  16.878910       NaN  \n",
      "691   1.315260       NaN  \n",
      "692  15.679188       NaN  \n",
      "693   1.199722       NaN  \n",
      "\n",
      "[694 rows x 11 columns]\n",
      "     Tree  Node     ID Feature  Split  Yes   No Missing       Gain      Cover  \\\n",
      "0       0     0    0-0    V288    1.0  0-1  0-2     0-1  19.026457  26.000000   \n",
      "1       0     1    0-1   V2176    1.0  0-3  0-4     0-3   7.848485  20.000000   \n",
      "2       0     2    0-2    Leaf    NaN  NaN  NaN     NaN  -0.157143   6.000000   \n",
      "3       0     3    0-3    V264    1.0  0-5  0-6     0-5   4.834371  18.250000   \n",
      "4       0     4    0-4    Leaf    NaN  NaN  NaN     NaN  -0.127273   1.750000   \n",
      "..    ...   ...    ...     ...    ...  ...  ...     ...        ...        ...   \n",
      "508    44    10  44-10    Leaf    NaN  NaN  NaN     NaN   0.015898   1.497211   \n",
      "509    44    11  44-11    Leaf    NaN  NaN  NaN     NaN  -0.042796   2.666173   \n",
      "510    44    12  44-12    Leaf    NaN  NaN  NaN     NaN   0.019039   1.155044   \n",
      "511    44    13  44-13    Leaf    NaN  NaN  NaN     NaN   0.067282   3.021788   \n",
      "512    44    14  44-14    Leaf    NaN  NaN  NaN     NaN   0.000509   1.017900   \n",
      "\n",
      "     Category  \n",
      "0         NaN  \n",
      "1         NaN  \n",
      "2         NaN  \n",
      "3         NaN  \n",
      "4         NaN  \n",
      "..        ...  \n",
      "508       NaN  \n",
      "509       NaN  \n",
      "510       NaN  \n",
      "511       NaN  \n",
      "512       NaN  \n",
      "\n",
      "[513 rows x 11 columns]\n"
     ]
    }
   ],
   "source": [
    "for i in range(5):\n",
    "    print(local_w[i])"
   ]
  },
  {
   "cell_type": "code",
   "execution_count": 64,
   "id": "64ec5a15",
   "metadata": {
    "scrolled": true
   },
   "outputs": [
    {
     "data": {
      "text/plain": [
       "[      Tree  Node     ID Feature  Split    Yes     No Missing       Gain  \\\n",
       " 0        0     0    0-0    V288    1.0    0-1    0-2     0-1  22.504303   \n",
       " 1        0     1    0-1   V2070    1.0    0-3    0-4     0-3   7.828083   \n",
       " 2        0     2    0-2   V2969    1.0    0-5    0-6     0-5   2.211075   \n",
       " 3        0     3    0-3   V1594    1.0    0-7    0-8     0-7   5.604492   \n",
       " 4        0     4    0-4   V3817    1.0    0-9   0-10     0-9   2.103593   \n",
       " ...    ...   ...    ...     ...    ...    ...    ...     ...        ...   \n",
       " 1169   107     4  107-4    Leaf    NaN    NaN    NaN     NaN  -0.045068   \n",
       " 1170   107     5  107-5   V2411    2.0  107-7  107-8   107-7   0.342338   \n",
       " 1171   107     6  107-6    Leaf    NaN    NaN    NaN     NaN  -0.013421   \n",
       " 1172   107     7  107-7    Leaf    NaN    NaN    NaN     NaN   0.040409   \n",
       " 1173   107     8  107-8    Leaf    NaN    NaN    NaN     NaN  -0.010202   \n",
       " \n",
       "           Cover  Category  \n",
       " 0     35.750000       NaN  \n",
       " 1     28.500000       NaN  \n",
       " 2      7.250000       NaN  \n",
       " 3     24.750000       NaN  \n",
       " 4      3.750000       NaN  \n",
       " ...         ...       ...  \n",
       " 1169   1.115245       NaN  \n",
       " 1170  11.485558       NaN  \n",
       " 1171   1.583852       NaN  \n",
       " 1172  10.373344       NaN  \n",
       " 1173   1.112213       NaN  \n",
       " \n",
       " [1174 rows x 11 columns],\n",
       "      Tree  Node     ID Feature  Split  Yes   No Missing       Gain      Cover  \\\n",
       " 0       0     0    0-0    V288    1.0  0-1  0-2     0-1  17.911390  35.750000   \n",
       " 1       0     1    0-1    V398    1.0  0-3  0-4     0-3   7.355767  29.500000   \n",
       " 2       0     2    0-2    Leaf    NaN  NaN  NaN     NaN  -0.158621   6.250000   \n",
       " 3       0     3    0-3    V981    1.0  0-5  0-6     0-5   4.374548  27.500000   \n",
       " 4       0     4    0-4    Leaf    NaN  NaN  NaN     NaN  -0.133333   2.000000   \n",
       " ..    ...   ...    ...     ...    ...  ...  ...     ...        ...        ...   \n",
       " 757    67    10  67-10    Leaf    NaN  NaN  NaN     NaN  -0.033347   1.954242   \n",
       " 758    67    11  67-11    Leaf    NaN  NaN  NaN     NaN  -0.034442   2.658956   \n",
       " 759    67    12  67-12    Leaf    NaN  NaN  NaN     NaN  -0.098432   2.653433   \n",
       " 760    67    13  67-13    Leaf    NaN  NaN  NaN     NaN   0.059008   8.985441   \n",
       " 761    67    14  67-14    Leaf    NaN  NaN  NaN     NaN  -0.025603   1.744441   \n",
       " \n",
       "      Category  \n",
       " 0         NaN  \n",
       " 1         NaN  \n",
       " 2         NaN  \n",
       " 3         NaN  \n",
       " 4         NaN  \n",
       " ..        ...  \n",
       " 757       NaN  \n",
       " 758       NaN  \n",
       " 759       NaN  \n",
       " 760       NaN  \n",
       " 761       NaN  \n",
       " \n",
       " [762 rows x 11 columns],\n",
       "      Tree  Node     ID Feature  Split  Yes   No Missing       Gain      Cover  \\\n",
       " 0       0     0    0-0    V288    1.0  0-1  0-2     0-1  15.381571  35.750000   \n",
       " 1       0     1    0-1   V2176    1.0  0-3  0-4     0-3   6.522347  29.500000   \n",
       " 2       0     2    0-2    V591    1.0  0-5  0-6     0-5   2.023988   6.250000   \n",
       " 3       0     3    0-3   V4193    2.0  0-7  0-8     0-7   7.303114  28.250000   \n",
       " 4       0     4    0-4    Leaf    NaN  NaN  NaN     NaN  -0.111111   1.250000   \n",
       " ..    ...   ...    ...     ...    ...  ...  ...     ...        ...        ...   \n",
       " 927    79     8   79-8    Leaf    NaN  NaN  NaN     NaN   0.041526   3.581567   \n",
       " 928    79     9   79-9    Leaf    NaN  NaN  NaN     NaN  -0.012652   4.154090   \n",
       " 929    79    10  79-10    Leaf    NaN  NaN  NaN     NaN  -0.079598   4.087067   \n",
       " 930    79    11  79-11    Leaf    NaN  NaN  NaN     NaN   0.003995   2.801857   \n",
       " 931    79    12  79-12    Leaf    NaN  NaN  NaN     NaN  -0.040367   1.111504   \n",
       " \n",
       "      Category  \n",
       " 0         NaN  \n",
       " 1         NaN  \n",
       " 2         NaN  \n",
       " 3         NaN  \n",
       " 4         NaN  \n",
       " ..        ...  \n",
       " 927       NaN  \n",
       " 928       NaN  \n",
       " 929       NaN  \n",
       " 930       NaN  \n",
       " 931       NaN  \n",
       " \n",
       " [932 rows x 11 columns],\n",
       "      Tree  Node    ID Feature  Split   Yes    No Missing       Gain  \\\n",
       " 0       0     0   0-0    V288    1.0   0-1   0-2     0-1  26.710987   \n",
       " 1       0     1   0-1   V3615    1.0   0-3   0-4     0-3   9.153091   \n",
       " 2       0     2   0-2    Leaf    NaN   NaN   NaN     NaN  -0.178378   \n",
       " 3       0     3   0-3   V3528    1.0   0-5   0-6     0-5   6.899127   \n",
       " 4       0     4   0-4    Leaf    NaN   NaN   NaN     NaN   0.152941   \n",
       " ..    ...   ...   ...     ...    ...   ...   ...     ...        ...   \n",
       " 689    61     4  61-4    Leaf    NaN   NaN   NaN     NaN   0.071602   \n",
       " 690    61     5  61-5   V2295    1.0  61-7  61-8    61-7   1.237226   \n",
       " 691    61     6  61-6    Leaf    NaN   NaN   NaN     NaN   0.060629   \n",
       " 692    61     7  61-7    Leaf    NaN   NaN   NaN     NaN  -0.039874   \n",
       " 693    61     8  61-8    Leaf    NaN   NaN   NaN     NaN   0.042967   \n",
       " \n",
       "          Cover  Category  \n",
       " 0    35.750000       NaN  \n",
       " 1    27.500000       NaN  \n",
       " 2     8.250000       NaN  \n",
       " 3    24.250000       NaN  \n",
       " 4     3.250000       NaN  \n",
       " ..         ...       ...  \n",
       " 689   1.121185       NaN  \n",
       " 690  16.878910       NaN  \n",
       " 691   1.315260       NaN  \n",
       " 692  15.679188       NaN  \n",
       " 693   1.199722       NaN  \n",
       " \n",
       " [694 rows x 11 columns],\n",
       "      Tree  Node     ID Feature  Split  Yes   No Missing       Gain      Cover  \\\n",
       " 0       0     0    0-0    V288    1.0  0-1  0-2     0-1  19.026457  26.000000   \n",
       " 1       0     1    0-1   V2176    1.0  0-3  0-4     0-3   7.848485  20.000000   \n",
       " 2       0     2    0-2    Leaf    NaN  NaN  NaN     NaN  -0.157143   6.000000   \n",
       " 3       0     3    0-3    V264    1.0  0-5  0-6     0-5   4.834371  18.250000   \n",
       " 4       0     4    0-4    Leaf    NaN  NaN  NaN     NaN  -0.127273   1.750000   \n",
       " ..    ...   ...    ...     ...    ...  ...  ...     ...        ...        ...   \n",
       " 508    44    10  44-10    Leaf    NaN  NaN  NaN     NaN   0.015898   1.497211   \n",
       " 509    44    11  44-11    Leaf    NaN  NaN  NaN     NaN  -0.042796   2.666173   \n",
       " 510    44    12  44-12    Leaf    NaN  NaN  NaN     NaN   0.019039   1.155044   \n",
       " 511    44    13  44-13    Leaf    NaN  NaN  NaN     NaN   0.067282   3.021788   \n",
       " 512    44    14  44-14    Leaf    NaN  NaN  NaN     NaN   0.000509   1.017900   \n",
       " \n",
       "      Category  \n",
       " 0         NaN  \n",
       " 1         NaN  \n",
       " 2         NaN  \n",
       " 3         NaN  \n",
       " 4         NaN  \n",
       " ..        ...  \n",
       " 508       NaN  \n",
       " 509       NaN  \n",
       " 510       NaN  \n",
       " 511       NaN  \n",
       " 512       NaN  \n",
       " \n",
       " [513 rows x 11 columns]]"
      ]
     },
     "execution_count": 64,
     "metadata": {},
     "output_type": "execute_result"
    }
   ],
   "source": [
    "trees = local_w\n",
    "trees"
   ]
  },
  {
   "cell_type": "code",
   "execution_count": null,
   "id": "2ab0ee26",
   "metadata": {},
   "outputs": [],
   "source": [
    "avg_col = trees[0].loc[trees['Feature'] == 'Leaf'][\"Gain\"]\n",
    "for i in range(1, 5):\n",
    "    avg_col += trees[i].loc[trees['Feature'] == 'Leaf'][\"Gain\"]\n",
    "    trees[i].loc[trees['Feature'] == 'Leaf'][\"Gain\"] ="
   ]
  },
  {
   "cell_type": "code",
   "execution_count": null,
   "id": "3fde5b58",
   "metadata": {},
   "outputs": [],
   "source": []
  },
  {
   "cell_type": "code",
   "execution_count": null,
   "id": "97e43c95",
   "metadata": {},
   "outputs": [],
   "source": []
  },
  {
   "cell_type": "code",
   "execution_count": null,
   "id": "2e5cf130",
   "metadata": {},
   "outputs": [],
   "source": []
  },
  {
   "cell_type": "code",
   "execution_count": null,
   "id": "e4b51cb4",
   "metadata": {},
   "outputs": [],
   "source": [
    "trees.loc[trees['Feature'] == 'Leaf'][\"Gain\"]"
   ]
  },
  {
   "cell_type": "code",
   "execution_count": 15,
   "id": "2395c061",
   "metadata": {},
   "outputs": [],
   "source": [
    "#Possible Loophole: Using full batch instead of splitting in client_update [fedavg, mcmahan]"
   ]
  },
  {
   "cell_type": "code",
   "execution_count": 16,
   "id": "c9a217e6",
   "metadata": {},
   "outputs": [
    {
     "data": {
      "text/plain": [
       "93"
      ]
     },
     "execution_count": 16,
     "metadata": {},
     "output_type": "execute_result"
    }
   ],
   "source": [
    "dump_list = global_model.get_booster().get_dump()\n",
    "len(dump_list)"
   ]
  },
  {
   "cell_type": "code",
   "execution_count": null,
   "id": "072a549c",
   "metadata": {},
   "outputs": [],
   "source": []
  },
  {
   "cell_type": "code",
   "execution_count": null,
   "id": "92c2f6d5",
   "metadata": {},
   "outputs": [],
   "source": []
  }
 ],
 "metadata": {
  "kernelspec": {
   "display_name": "Python 3 (ipykernel)",
   "language": "python",
   "name": "python3"
  },
  "language_info": {
   "codemirror_mode": {
    "name": "ipython",
    "version": 3
   },
   "file_extension": ".py",
   "mimetype": "text/x-python",
   "name": "python",
   "nbconvert_exporter": "python",
   "pygments_lexer": "ipython3",
   "version": "3.9.12"
  }
 },
 "nbformat": 4,
 "nbformat_minor": 5
}
