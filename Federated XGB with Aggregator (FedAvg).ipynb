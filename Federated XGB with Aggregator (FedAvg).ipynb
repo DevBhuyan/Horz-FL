{
 "cells": [
  {
   "cell_type": "code",
   "execution_count": 1,
   "id": "da985a98",
   "metadata": {},
   "outputs": [],
   "source": [
    "import pandas as pd\n",
    "import numpy as np\n",
    "import matplotlib.pyplot as plt\n",
    "import pickle\n",
    "import xgboost as xgb\n",
    "from sklearn.model_selection import train_test_split\n",
    "from sklearn.metrics import accuracy_score"
   ]
  },
  {
   "cell_type": "code",
   "execution_count": 2,
   "id": "ec6c91c2",
   "metadata": {},
   "outputs": [
    {
     "data": {
      "text/plain": [
       "(1427, 4323)"
      ]
     },
     "execution_count": 2,
     "metadata": {},
     "output_type": "execute_result"
    }
   ],
   "source": [
    "file = 'RELATHE.csv'\n",
    "df_main = pd.read_csv(file)\n",
    "df_main = df_main.sample(frac = 1)\n",
    "df_main.shape"
   ]
  },
  {
   "cell_type": "code",
   "execution_count": 3,
   "id": "72e1e797",
   "metadata": {
    "scrolled": true
   },
   "outputs": [
    {
     "data": {
      "text/plain": [
       "<bound method NDFrame.head of       V1  V2  V3  V4  V5  V6  V7  V8  V9  V10  ...  V4314  V4315  V4316  \\\n",
       "227    0   0   0   0   0   0   0   0   0    0  ...      0      0      0   \n",
       "1212   0   0   0   0   0   0   0   0   0    0  ...      0      0      0   \n",
       "835    0   0   0   0   0   0   0   0   0    0  ...      0      0      0   \n",
       "1132   0   0   0   0   0   0   0   0   0    0  ...      0      0      0   \n",
       "257    0   0   0   0   0   0   0   0   0    0  ...      0      0      0   \n",
       "...   ..  ..  ..  ..  ..  ..  ..  ..  ..  ...  ...    ...    ...    ...   \n",
       "1086   0   0   0   0   0   0   0   0   0    0  ...      0      0      0   \n",
       "559    0   0   0   0   0   0   0   0   0    0  ...      0      0      0   \n",
       "823    0   0   0   0   0   0   0   0   0    0  ...      0      0      0   \n",
       "344    0   0   0   0   0   0   0   0   0    0  ...      0      0      0   \n",
       "107    0   0   0   0   0   0   0   0   0    0  ...      0      0      0   \n",
       "\n",
       "      V4317  V4318  V4319  V4320  V4321  V4322  TARGET  \n",
       "227       0      0      0      0      0      0       0  \n",
       "1212      0      0      0      0      0      0       1  \n",
       "835       0      0      0      0      0      0       1  \n",
       "1132      0      0      0      0      0      0       1  \n",
       "257       0      0      0      0      0      0       0  \n",
       "...     ...    ...    ...    ...    ...    ...     ...  \n",
       "1086      0      0      0      0      0      0       1  \n",
       "559       0      0      0      0      0      0       0  \n",
       "823       0      0      0      0      0      0       1  \n",
       "344       0      0      0      0      0      0       0  \n",
       "107       0      0      0      0      0      0       0  \n",
       "\n",
       "[1427 rows x 4323 columns]>"
      ]
     },
     "execution_count": 3,
     "metadata": {},
     "output_type": "execute_result"
    }
   ],
   "source": [
    "df_main.head"
   ]
  },
  {
   "cell_type": "code",
   "execution_count": 4,
   "id": "bea1083d",
   "metadata": {},
   "outputs": [],
   "source": [
    "#DATA DIVISION\n",
    "\n",
    "df_1 = df_main.iloc[:300, :]\n",
    "x_1 = df_1.drop('TARGET', axis = 1)\n",
    "y_1 = df_1['TARGET']\n",
    "df_2 = df_main.iloc[300:600, :]\n",
    "x_2 = df_2.drop('TARGET', axis = 1)\n",
    "y_2 = df_2['TARGET']\n",
    "df_3 = df_main.iloc[600:900, :]\n",
    "x_3 = df_3.drop('TARGET', axis = 1)\n",
    "y_3 = df_3['TARGET']\n",
    "df_4 = df_main.iloc[900:1200, :]\n",
    "x_4 = df_4.drop('TARGET', axis = 1)\n",
    "y_4 = df_4['TARGET']\n",
    "df_5 = df_main.iloc[1200:, :]\n",
    "x_5 = df_5.drop('TARGET', axis = 1)\n",
    "y_5 = df_5['TARGET']\n",
    "df_list = [df_1, df_2, df_3, df_4, df_5]\n",
    "x_list = [x_1, x_2, x_3, x_4, x_5]"
   ]
  },
  {
   "cell_type": "code",
   "execution_count": 5,
   "id": "6f62b7ee",
   "metadata": {},
   "outputs": [],
   "source": [
    "global_model = pickle.load(open(\"xgb_clf.dat\", \"rb\"))"
   ]
  },
  {
   "cell_type": "code",
   "execution_count": 7,
   "id": "b6465ff5",
   "metadata": {},
   "outputs": [],
   "source": [
    "class Server():\n",
    "    def __init__(self, df, model):\n",
    "        self.df = df\n",
    "        self.model = model\n",
    "    def update_weights():\n",
    "        return\n",
    "\n",
    "server = Server(df_main, global_model)"
   ]
  },
  {
   "cell_type": "code",
   "execution_count": 16,
   "id": "fbbc42b9",
   "metadata": {},
   "outputs": [],
   "source": [
    "class Client():\n",
    "    def __init__(self, cli, df, model):\n",
    "        self.cli = cli\n",
    "        self.df = df\n",
    "        self.model = model\n",
    "    def generate_weights(self, model):\n",
    "        df = self.df\n",
    "        X = df.drop('TARGET', axis = 1)\n",
    "        y = df['TARGET']\n",
    "        X_train, X_test, y_train, y_test = train_test_split(X, y, test_size = 0.2, random_state = 0)\n",
    "        eval_set = [(X_test, y_test)]\n",
    "        model.fit(X_train, \n",
    "                y_train, \n",
    "                early_stopping_rounds=15,                  \n",
    "                eval_set=eval_set,\n",
    "                verbose = False)\n",
    "        results = model.evals_result()\n",
    "        return model, sum(results['validation_0']['logloss'])/len(results['validation_0']['logloss'])\n",
    "    def inference(self, model):    #return the acc, loss of given model on local dataset\n",
    "        df = self.df\n",
    "        X = df.drop('TARGET', axis = 1)\n",
    "        y = df['TARGET']\n",
    "        X_train, X_test, y_train, y_test = train_test_split(X, y, test_size = 0.2, random_state = 0)\n",
    "        y_pred = model.predict(X_test)\n",
    "        return accuracy_score(y_test, y_pred), "
   ]
  },
  {
   "cell_type": "code",
   "execution_count": 17,
   "id": "88d3e5f6",
   "metadata": {},
   "outputs": [],
   "source": [
    "def update_model(global_model, local_weights):    #change the weights in the model itself\n",
    "    # local weights is also a model\n",
    "    global_new_model = global_model\n",
    "    return global_new_model"
   ]
  },
  {
   "cell_type": "code",
   "execution_count": 18,
   "id": "7ebc5729",
   "metadata": {},
   "outputs": [],
   "source": [
    "cl1 = Client(1, df_1, global_model)\n",
    "cl2 = Client(2, df_2, global_model)\n",
    "cl3 = Client(3, df_3, global_model)\n",
    "cl4 = Client(4, df_4, global_model)\n",
    "cl5 = Client(5, df_5, global_model)\n",
    "\n",
    "cli_list = [cl1, cl2, cl3, cl4, cl5]"
   ]
  },
  {
   "cell_type": "code",
   "execution_count": 20,
   "id": "d7e360fc",
   "metadata": {
    "scrolled": false
   },
   "outputs": [
    {
     "name": "stdout",
     "output_type": "stream",
     "text": [
      "Global Training Round: 1\n",
      "Training | Client index: 5\n"
     ]
    },
    {
     "name": "stderr",
     "output_type": "stream",
     "text": [
      "C:\\Users\\Asus\\AppData\\Roaming\\Python\\Python39\\site-packages\\xgboost\\sklearn.py:793: UserWarning: `early_stopping_rounds` in `fit` method is deprecated for better compatibility with scikit-learn, use `early_stopping_rounds` in constructor or`set_params` instead.\n",
      "  warnings.warn(\n"
     ]
    },
    {
     "name": "stdout",
     "output_type": "stream",
     "text": [
      "Training | Client index: 4\n"
     ]
    },
    {
     "name": "stderr",
     "output_type": "stream",
     "text": [
      "C:\\Users\\Asus\\AppData\\Roaming\\Python\\Python39\\site-packages\\xgboost\\sklearn.py:793: UserWarning: `early_stopping_rounds` in `fit` method is deprecated for better compatibility with scikit-learn, use `early_stopping_rounds` in constructor or`set_params` instead.\n",
      "  warnings.warn(\n"
     ]
    },
    {
     "name": "stdout",
     "output_type": "stream",
     "text": [
      "Training | Client index: 1\n"
     ]
    },
    {
     "name": "stderr",
     "output_type": "stream",
     "text": [
      "C:\\Users\\Asus\\AppData\\Roaming\\Python\\Python39\\site-packages\\xgboost\\sklearn.py:793: UserWarning: `early_stopping_rounds` in `fit` method is deprecated for better compatibility with scikit-learn, use `early_stopping_rounds` in constructor or`set_params` instead.\n",
      "  warnings.warn(\n"
     ]
    },
    {
     "name": "stdout",
     "output_type": "stream",
     "text": [
      "Training | Client index: 2\n"
     ]
    },
    {
     "name": "stderr",
     "output_type": "stream",
     "text": [
      "C:\\Users\\Asus\\AppData\\Roaming\\Python\\Python39\\site-packages\\xgboost\\sklearn.py:793: UserWarning: `early_stopping_rounds` in `fit` method is deprecated for better compatibility with scikit-learn, use `early_stopping_rounds` in constructor or`set_params` instead.\n",
      "  warnings.warn(\n"
     ]
    },
    {
     "name": "stdout",
     "output_type": "stream",
     "text": [
      "Training | Client index: 3\n"
     ]
    },
    {
     "name": "stderr",
     "output_type": "stream",
     "text": [
      "C:\\Users\\Asus\\AppData\\Roaming\\Python\\Python39\\site-packages\\xgboost\\sklearn.py:793: UserWarning: `early_stopping_rounds` in `fit` method is deprecated for better compatibility with scikit-learn, use `early_stopping_rounds` in constructor or`set_params` instead.\n",
      "  warnings.warn(\n"
     ]
    },
    {
     "name": "stdout",
     "output_type": "stream",
     "text": [
      "Accuracy | Client index: 1\n",
      "Accuracy | Client index: 2\n",
      "Accuracy | Client index: 3\n",
      "Accuracy | Client index: 4\n",
      "Accuracy | Client index: 5\n",
      "Training loss for Global Training Round:  1 is : 0.4883\n",
      "Training accuracy for Global Training Round:  1 is : 0.7658\n",
      "Global Training Round: 2\n",
      "Training | Client index: 4\n"
     ]
    },
    {
     "name": "stderr",
     "output_type": "stream",
     "text": [
      "C:\\Users\\Asus\\AppData\\Roaming\\Python\\Python39\\site-packages\\xgboost\\sklearn.py:793: UserWarning: `early_stopping_rounds` in `fit` method is deprecated for better compatibility with scikit-learn, use `early_stopping_rounds` in constructor or`set_params` instead.\n",
      "  warnings.warn(\n"
     ]
    },
    {
     "name": "stdout",
     "output_type": "stream",
     "text": [
      "Training | Client index: 3\n"
     ]
    },
    {
     "name": "stderr",
     "output_type": "stream",
     "text": [
      "C:\\Users\\Asus\\AppData\\Roaming\\Python\\Python39\\site-packages\\xgboost\\sklearn.py:793: UserWarning: `early_stopping_rounds` in `fit` method is deprecated for better compatibility with scikit-learn, use `early_stopping_rounds` in constructor or`set_params` instead.\n",
      "  warnings.warn(\n"
     ]
    },
    {
     "name": "stdout",
     "output_type": "stream",
     "text": [
      "Training | Client index: 1\n"
     ]
    },
    {
     "name": "stderr",
     "output_type": "stream",
     "text": [
      "C:\\Users\\Asus\\AppData\\Roaming\\Python\\Python39\\site-packages\\xgboost\\sklearn.py:793: UserWarning: `early_stopping_rounds` in `fit` method is deprecated for better compatibility with scikit-learn, use `early_stopping_rounds` in constructor or`set_params` instead.\n",
      "  warnings.warn(\n"
     ]
    },
    {
     "name": "stdout",
     "output_type": "stream",
     "text": [
      "Training | Client index: 2\n"
     ]
    },
    {
     "name": "stderr",
     "output_type": "stream",
     "text": [
      "C:\\Users\\Asus\\AppData\\Roaming\\Python\\Python39\\site-packages\\xgboost\\sklearn.py:793: UserWarning: `early_stopping_rounds` in `fit` method is deprecated for better compatibility with scikit-learn, use `early_stopping_rounds` in constructor or`set_params` instead.\n",
      "  warnings.warn(\n"
     ]
    },
    {
     "name": "stdout",
     "output_type": "stream",
     "text": [
      "Training | Client index: 5\n"
     ]
    },
    {
     "name": "stderr",
     "output_type": "stream",
     "text": [
      "C:\\Users\\Asus\\AppData\\Roaming\\Python\\Python39\\site-packages\\xgboost\\sklearn.py:793: UserWarning: `early_stopping_rounds` in `fit` method is deprecated for better compatibility with scikit-learn, use `early_stopping_rounds` in constructor or`set_params` instead.\n",
      "  warnings.warn(\n"
     ]
    },
    {
     "name": "stdout",
     "output_type": "stream",
     "text": [
      "Accuracy | Client index: 1\n",
      "Accuracy | Client index: 2\n",
      "Accuracy | Client index: 3\n",
      "Accuracy | Client index: 4\n",
      "Accuracy | Client index: 5\n",
      "Training loss for Global Training Round:  2 is : 0.4883\n",
      "Training accuracy for Global Training Round:  2 is : 0.8262\n",
      "Global Training Round: 3\n",
      "Training | Client index: 5\n"
     ]
    },
    {
     "name": "stderr",
     "output_type": "stream",
     "text": [
      "C:\\Users\\Asus\\AppData\\Roaming\\Python\\Python39\\site-packages\\xgboost\\sklearn.py:793: UserWarning: `early_stopping_rounds` in `fit` method is deprecated for better compatibility with scikit-learn, use `early_stopping_rounds` in constructor or`set_params` instead.\n",
      "  warnings.warn(\n"
     ]
    },
    {
     "name": "stdout",
     "output_type": "stream",
     "text": [
      "Training | Client index: 2\n"
     ]
    },
    {
     "name": "stderr",
     "output_type": "stream",
     "text": [
      "C:\\Users\\Asus\\AppData\\Roaming\\Python\\Python39\\site-packages\\xgboost\\sklearn.py:793: UserWarning: `early_stopping_rounds` in `fit` method is deprecated for better compatibility with scikit-learn, use `early_stopping_rounds` in constructor or`set_params` instead.\n",
      "  warnings.warn(\n"
     ]
    },
    {
     "name": "stdout",
     "output_type": "stream",
     "text": [
      "Training | Client index: 1\n"
     ]
    },
    {
     "name": "stderr",
     "output_type": "stream",
     "text": [
      "C:\\Users\\Asus\\AppData\\Roaming\\Python\\Python39\\site-packages\\xgboost\\sklearn.py:793: UserWarning: `early_stopping_rounds` in `fit` method is deprecated for better compatibility with scikit-learn, use `early_stopping_rounds` in constructor or`set_params` instead.\n",
      "  warnings.warn(\n"
     ]
    },
    {
     "name": "stdout",
     "output_type": "stream",
     "text": [
      "Training | Client index: 3\n"
     ]
    },
    {
     "name": "stderr",
     "output_type": "stream",
     "text": [
      "C:\\Users\\Asus\\AppData\\Roaming\\Python\\Python39\\site-packages\\xgboost\\sklearn.py:793: UserWarning: `early_stopping_rounds` in `fit` method is deprecated for better compatibility with scikit-learn, use `early_stopping_rounds` in constructor or`set_params` instead.\n",
      "  warnings.warn(\n"
     ]
    },
    {
     "name": "stdout",
     "output_type": "stream",
     "text": [
      "Training | Client index: 4\n"
     ]
    },
    {
     "name": "stderr",
     "output_type": "stream",
     "text": [
      "C:\\Users\\Asus\\AppData\\Roaming\\Python\\Python39\\site-packages\\xgboost\\sklearn.py:793: UserWarning: `early_stopping_rounds` in `fit` method is deprecated for better compatibility with scikit-learn, use `early_stopping_rounds` in constructor or`set_params` instead.\n",
      "  warnings.warn(\n"
     ]
    },
    {
     "name": "stdout",
     "output_type": "stream",
     "text": [
      "Accuracy | Client index: 1\n",
      "Accuracy | Client index: 2\n",
      "Accuracy | Client index: 3\n",
      "Accuracy | Client index: 4\n",
      "Accuracy | Client index: 5\n",
      "Training loss for Global Training Round:  3 is : 0.4883\n",
      "Training accuracy for Global Training Round:  3 is : 0.8162\n",
      "Global Training Round: 4\n",
      "Training | Client index: 1\n"
     ]
    },
    {
     "name": "stderr",
     "output_type": "stream",
     "text": [
      "C:\\Users\\Asus\\AppData\\Roaming\\Python\\Python39\\site-packages\\xgboost\\sklearn.py:793: UserWarning: `early_stopping_rounds` in `fit` method is deprecated for better compatibility with scikit-learn, use `early_stopping_rounds` in constructor or`set_params` instead.\n",
      "  warnings.warn(\n"
     ]
    },
    {
     "name": "stdout",
     "output_type": "stream",
     "text": [
      "Training | Client index: 3\n"
     ]
    },
    {
     "name": "stderr",
     "output_type": "stream",
     "text": [
      "C:\\Users\\Asus\\AppData\\Roaming\\Python\\Python39\\site-packages\\xgboost\\sklearn.py:793: UserWarning: `early_stopping_rounds` in `fit` method is deprecated for better compatibility with scikit-learn, use `early_stopping_rounds` in constructor or`set_params` instead.\n",
      "  warnings.warn(\n"
     ]
    },
    {
     "name": "stdout",
     "output_type": "stream",
     "text": [
      "Training | Client index: 5\n"
     ]
    },
    {
     "name": "stderr",
     "output_type": "stream",
     "text": [
      "C:\\Users\\Asus\\AppData\\Roaming\\Python\\Python39\\site-packages\\xgboost\\sklearn.py:793: UserWarning: `early_stopping_rounds` in `fit` method is deprecated for better compatibility with scikit-learn, use `early_stopping_rounds` in constructor or`set_params` instead.\n",
      "  warnings.warn(\n"
     ]
    },
    {
     "name": "stdout",
     "output_type": "stream",
     "text": [
      "Training | Client index: 4\n"
     ]
    },
    {
     "name": "stderr",
     "output_type": "stream",
     "text": [
      "C:\\Users\\Asus\\AppData\\Roaming\\Python\\Python39\\site-packages\\xgboost\\sklearn.py:793: UserWarning: `early_stopping_rounds` in `fit` method is deprecated for better compatibility with scikit-learn, use `early_stopping_rounds` in constructor or`set_params` instead.\n",
      "  warnings.warn(\n"
     ]
    },
    {
     "name": "stdout",
     "output_type": "stream",
     "text": [
      "Training | Client index: 2\n"
     ]
    },
    {
     "name": "stderr",
     "output_type": "stream",
     "text": [
      "C:\\Users\\Asus\\AppData\\Roaming\\Python\\Python39\\site-packages\\xgboost\\sklearn.py:793: UserWarning: `early_stopping_rounds` in `fit` method is deprecated for better compatibility with scikit-learn, use `early_stopping_rounds` in constructor or`set_params` instead.\n",
      "  warnings.warn(\n"
     ]
    },
    {
     "name": "stdout",
     "output_type": "stream",
     "text": [
      "Accuracy | Client index: 1\n",
      "Accuracy | Client index: 2\n",
      "Accuracy | Client index: 3\n",
      "Accuracy | Client index: 4\n",
      "Accuracy | Client index: 5\n",
      "Training loss for Global Training Round:  4 is : 0.4883\n",
      "Training accuracy for Global Training Round:  4 is : 0.7722\n"
     ]
    }
   ],
   "source": [
    "c = 1    #Fraction of Clients to be used\n",
    "global_training_rounds = 4\n",
    "train_loss = []\n",
    "train_accuracy = []\n",
    "for i in range(global_training_rounds):\n",
    "    m = max(c*5, 1)\n",
    "    st = np.random.choice(5, m, replace = False)    #random set of m clients\n",
    "    local_w = []\n",
    "    local_loss = []\n",
    "    print('Global Training Round: ', end = \"\")\n",
    "    print(i+1)\n",
    "    for k in st:\n",
    "        print('Training | Client index: ', end = \"\")\n",
    "        print(k+1)\n",
    "        w, loss = cli_list[k].generate_weights(global_model)\n",
    "        local_w.append(w)\n",
    "        local_loss.append(loss)\n",
    "        #w(t+1)k = clientupdate(k, wt)\n",
    "        #w(t+1) = sum((nk/n) * w(t+1)k)\n",
    "    global_model = update_model(global_model, local_w)\n",
    "    train_loss.append(sum(local_loss)/len(local_loss))\n",
    "    # Calculate avg training accuracy over all users at every epoch\n",
    "    list_acc = []\n",
    "    for j in range(5):\n",
    "        acc = cli_list[j].inference(global_model)\n",
    "        list_acc.append(sum(acc))\n",
    "    train_accuracy.append(sum(list_acc)/len(list_acc))\n",
    "    print(\"Training loss for Global Training Round: %2d is : %2.4f\" % (i+1, train_loss[i]))\n",
    "    print(\"Training accuracy for Global Training Round: %2d is : %2.4f\" % (i+1, train_accuracy[i]))"
   ]
  },
  {
   "cell_type": "code",
   "execution_count": null,
   "id": "412149e4",
   "metadata": {},
   "outputs": [],
   "source": [
    "#Find test accuracy and loss"
   ]
  },
  {
   "cell_type": "code",
   "execution_count": null,
   "id": "c663b679",
   "metadata": {},
   "outputs": [],
   "source": []
  },
  {
   "cell_type": "code",
   "execution_count": null,
   "id": "25b2f0b1",
   "metadata": {},
   "outputs": [],
   "source": []
  },
  {
   "cell_type": "code",
   "execution_count": null,
   "id": "2d5e6792",
   "metadata": {},
   "outputs": [],
   "source": [
    "list_acc = []\n",
    "acc = cli_list[2].inference(global_model)\n",
    "list_acc.append(acc)"
   ]
  },
  {
   "cell_type": "code",
   "execution_count": null,
   "id": "57b19729",
   "metadata": {},
   "outputs": [],
   "source": [
    "list_acc"
   ]
  },
  {
   "cell_type": "code",
   "execution_count": null,
   "id": "2e3787dd",
   "metadata": {},
   "outputs": [],
   "source": [
    "trees = global_model.get_booster().trees_to_dataframe()"
   ]
  },
  {
   "cell_type": "code",
   "execution_count": null,
   "id": "cedb12b2",
   "metadata": {
    "scrolled": true
   },
   "outputs": [],
   "source": [
    "trees"
   ]
  },
  {
   "cell_type": "code",
   "execution_count": null,
   "id": "46d75ff6",
   "metadata": {},
   "outputs": [],
   "source": [
    "trees.loc[trees['Feature'] == 'Leaf'][\"Gain\"]"
   ]
  },
  {
   "cell_type": "code",
   "execution_count": null,
   "id": "2395c061",
   "metadata": {},
   "outputs": [],
   "source": [
    "#Possible Loophole: Using full batch instead of splitting in client_update [fedavg, mcmahan]"
   ]
  },
  {
   "cell_type": "code",
   "execution_count": null,
   "id": "c9a217e6",
   "metadata": {},
   "outputs": [],
   "source": [
    "dump_list = global_model.get_booster().get_dump()\n",
    "len(dump_list)"
   ]
  },
  {
   "cell_type": "code",
   "execution_count": null,
   "id": "072a549c",
   "metadata": {},
   "outputs": [],
   "source": []
  },
  {
   "cell_type": "code",
   "execution_count": null,
   "id": "92c2f6d5",
   "metadata": {},
   "outputs": [],
   "source": []
  }
 ],
 "metadata": {
  "kernelspec": {
   "display_name": "Python 3 (ipykernel)",
   "language": "python",
   "name": "python3"
  },
  "language_info": {
   "codemirror_mode": {
    "name": "ipython",
    "version": 3
   },
   "file_extension": ".py",
   "mimetype": "text/x-python",
   "name": "python",
   "nbconvert_exporter": "python",
   "pygments_lexer": "ipython3",
   "version": "3.9.12"
  }
 },
 "nbformat": 4,
 "nbformat_minor": 5
}
